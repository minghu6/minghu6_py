{
 "cells": [
  {
   "cell_type": "code",
   "execution_count": null,
   "metadata": {
    "collapsed": false
   },
   "outputs": [],
   "source": [
    "import github3"
   ]
  },
  {
   "cell_type": "code",
   "execution_count": null,
   "metadata": {
    "collapsed": false
   },
   "outputs": [],
   "source": [
    "import os"
   ]
  },
  {
   "cell_type": "code",
   "execution_count": null,
   "metadata": {
    "collapsed": true
   },
   "outputs": [],
   "source": []
  },
  {
   "cell_type": "code",
   "execution_count": 17,
   "metadata": {
    "collapsed": false
   },
   "outputs": [],
   "source": [
    "try:\n",
    "    import pandas\n",
    "except ImportError as e:\n",
    "    import os\n",
    "    \n",
    "    os.popen('pip install pandas')\n",
    "    \n",
    "    "
   ]
  },
  {
   "cell_type": "code",
   "execution_count": 22,
   "metadata": {
    "collapsed": false
   },
   "outputs": [
    {
     "data": {
      "text/plain": [
       "'\\r\\n'"
      ]
     },
     "execution_count": 22,
     "metadata": {},
     "output_type": "execute_result"
    }
   ],
   "source": [
    "os.linesep"
   ]
  },
  {
   "cell_type": "code",
   "execution_count": 4,
   "metadata": {
    "collapsed": false
   },
   "outputs": [
    {
     "name": "stdout",
     "output_type": "stream",
     "text": [
      "Help on package PIL:\n",
      "\n",
      "NAME\n",
      "    PIL\n",
      "\n",
      "FILE\n",
      "    e:\\coding\\python2.7\\lib\\site-packages\\pil\\__init__.py\n",
      "\n",
      "DESCRIPTION\n",
      "    # The Python Imaging Library.\n",
      "    # $Id$\n",
      "    #\n",
      "    # package placeholder\n",
      "    #\n",
      "    # Copyright (c) 1999 by Secret Labs AB.\n",
      "    #\n",
      "    # See the README file for information on usage and redistribution.\n",
      "    #\n",
      "\n",
      "PACKAGE CONTENTS\n",
      "    ArgImagePlugin\n",
      "    BdfFontFile\n",
      "    BmpImagePlugin\n",
      "    BufrStubImagePlugin\n",
      "    ContainerIO\n",
      "    CurImagePlugin\n",
      "    DcxImagePlugin\n",
      "    DdsImagePlugin\n",
      "    EpsImagePlugin\n",
      "    ExifTags\n",
      "    FitsStubImagePlugin\n",
      "    FliImagePlugin\n",
      "    FontFile\n",
      "    FpxImagePlugin\n",
      "    FtexImagePlugin\n",
      "    GbrImagePlugin\n",
      "    GdImageFile\n",
      "    GifImagePlugin\n",
      "    GimpGradientFile\n",
      "    GimpPaletteFile\n",
      "    GribStubImagePlugin\n",
      "    Hdf5StubImagePlugin\n",
      "    IcnsImagePlugin\n",
      "    IcoImagePlugin\n",
      "    ImImagePlugin\n",
      "    Image\n",
      "    ImageChops\n",
      "    ImageCms\n",
      "    ImageColor\n",
      "    ImageDraw\n",
      "    ImageDraw2\n",
      "    ImageEnhance\n",
      "    ImageFile\n",
      "    ImageFileIO\n",
      "    ImageFilter\n",
      "    ImageFont\n",
      "    ImageGL\n",
      "    ImageGrab\n",
      "    ImageMath\n",
      "    ImageMode\n",
      "    ImageMorph\n",
      "    ImageOps\n",
      "    ImagePalette\n",
      "    ImagePath\n",
      "    ImageQt\n",
      "    ImageSequence\n",
      "    ImageShow\n",
      "    ImageStat\n",
      "    ImageTk\n",
      "    ImageTransform\n",
      "    ImageWin\n",
      "    ImtImagePlugin\n",
      "    IptcImagePlugin\n",
      "    Jpeg2KImagePlugin\n",
      "    JpegImagePlugin\n",
      "    JpegPresets\n",
      "    McIdasImagePlugin\n",
      "    MicImagePlugin\n",
      "    MpegImagePlugin\n",
      "    MpoImagePlugin\n",
      "    MspImagePlugin\n",
      "    OleFileIO\n",
      "    PSDraw\n",
      "    PaletteFile\n",
      "    PalmImagePlugin\n",
      "    PcdImagePlugin\n",
      "    PcfFontFile\n",
      "    PcxImagePlugin\n",
      "    PdfImagePlugin\n",
      "    PixarImagePlugin\n",
      "    PngImagePlugin\n",
      "    PpmImagePlugin\n",
      "    PsdImagePlugin\n",
      "    PyAccess\n",
      "    SgiImagePlugin\n",
      "    SpiderImagePlugin\n",
      "    SunImagePlugin\n",
      "    TarIO\n",
      "    TgaImagePlugin\n",
      "    TiffImagePlugin\n",
      "    TiffTags\n",
      "    WalImageFile\n",
      "    WebPImagePlugin\n",
      "    WmfImagePlugin\n",
      "    XVThumbImagePlugin\n",
      "    XbmImagePlugin\n",
      "    XpmImagePlugin\n",
      "    _binary\n",
      "    _imaging\n",
      "    _imagingcms\n",
      "    _imagingft\n",
      "    _imagingmath\n",
      "    _imagingmorph\n",
      "    _imagingtk\n",
      "    _util\n",
      "    _webp\n",
      "    features\n",
      "\n",
      "\n"
     ]
    }
   ],
   "source": [
    "help(PIL)"
   ]
  },
  {
   "cell_type": "code",
   "execution_count": 3,
   "metadata": {
    "collapsed": true
   },
   "outputs": [],
   "source": [
    "from __future__ import  print_function #both for py2 and py3,must at top of file\n",
    "#! /usr/bin/env python\n",
    "\n",
    "import sys\n",
    "def python_version():return sys.version_info.major\n",
    "\n",
    "if python_version()==3:\n",
    "    from urllib.request import Request #python3\n",
    "    from urllib.request import urlopen #python3\n",
    "\n",
    "    from urllib.request import urlretrieve #python3\n",
    "\n",
    "    from html.parser import HTMLParser\n",
    "elif python_version()==2:\n",
    "    from urllib2 import Request\n",
    "    from urllib2 import urlopen\n",
    "\n",
    "    from urllib import urlretrieve\n",
    "\n",
    "    from HTMLParser import HTMLParser"
   ]
  },
  {
   "cell_type": "code",
   "execution_count": 116,
   "metadata": {
    "collapsed": true
   },
   "outputs": [],
   "source": [
    "def get_mv_name(mv_id):\n",
    "\n",
    "    #get html according to mv_id\n",
    "    url='http://v.yinyuetai.com/video/'+str(mv_id)\n",
    "    i=urlopen(url)\n",
    "    html=i.read()\n",
    "    if python_version()==3:\n",
    "        codec = i.info().get_param('charset', 'utf8')\n",
    "        html = html.decode(codec,errors='ignore')\n",
    "        \n",
    "    i.close()\n",
    "\n",
    "    #parse html and get title\n",
    "\n",
    "    class Hpr(HTMLParser):\n",
    "        def handle_starttag(self,tag,attr):\n",
    "            if tag=='title':\n",
    "                self.handle_data=self.get_data\n",
    "                #print('title start')\n",
    "        def handle_endtag(self,tag):\n",
    "            if tag=='title':\n",
    "                self.handle_data=self.do_nothing\n",
    "                #print('title end')\n",
    "                \n",
    "        def do_nothing(self,data):\n",
    "            pass\n",
    "        def get_data(self,data):\n",
    "            #print(data)\n",
    "            self.data=data\n",
    "\n",
    "    if python_version()==3:\n",
    "        hpr=Hpr(convert_charrefs=False)\n",
    "    elif python_version()==2:\n",
    "        hpr=Hpr()\n",
    "    hpr.feed(html)\n",
    "    mv_name=hpr.data\n",
    "    hpr.close()\n",
    "\n",
    "    print(type(mv_name))\n",
    "    def format_mv_name(name):\n",
    "        #because of MPEG-4 belongs to MP4\n",
    "        if python_version()==2:\n",
    "            name=name.encode('ascii',errors='ignore')\n",
    "        return name.split('\\n\\t')[-1].split('-')[1]+'--音悦Tai'+'.mp4'\n",
    "\n",
    "    return format_mv_name(mv_name)"
   ]
  },
  {
   "cell_type": "code",
   "execution_count": 128,
   "metadata": {
    "collapsed": false
   },
   "outputs": [
    {
     "ename": "UnicodeDecodeError",
     "evalue": "'ascii' codec can't decode byte 0xe5 in position 0: ordinal not in range(128)",
     "output_type": "error",
     "traceback": [
      "\u001b[1;31m---------------------------------------------------------------------------\u001b[0m",
      "\u001b[1;31mUnicodeDecodeError\u001b[0m                        Traceback (most recent call last)",
      "\u001b[1;32m<ipython-input-128-20b2cbd4dfe6>\u001b[0m in \u001b[0;36m<module>\u001b[1;34m()\u001b[0m\n\u001b[1;32m----> 1\u001b[1;33m \u001b[0mget_mv_name\u001b[0m\u001b[1;33m(\u001b[0m\u001b[1;34m'2067606'\u001b[0m\u001b[1;33m)\u001b[0m\u001b[1;33m\u001b[0m\u001b[0m\n\u001b[0m",
      "\u001b[1;32m<ipython-input-116-f555f58896a0>\u001b[0m in \u001b[0;36mget_mv_name\u001b[1;34m(mv_id)\u001b[0m\n\u001b[0;32m     33\u001b[0m     \u001b[1;32melif\u001b[0m \u001b[0mpython_version\u001b[0m\u001b[1;33m(\u001b[0m\u001b[1;33m)\u001b[0m\u001b[1;33m==\u001b[0m\u001b[1;36m2\u001b[0m\u001b[1;33m:\u001b[0m\u001b[1;33m\u001b[0m\u001b[0m\n\u001b[0;32m     34\u001b[0m         \u001b[0mhpr\u001b[0m\u001b[1;33m=\u001b[0m\u001b[0mHpr\u001b[0m\u001b[1;33m(\u001b[0m\u001b[1;33m)\u001b[0m\u001b[1;33m\u001b[0m\u001b[0m\n\u001b[1;32m---> 35\u001b[1;33m     \u001b[0mhpr\u001b[0m\u001b[1;33m.\u001b[0m\u001b[0mfeed\u001b[0m\u001b[1;33m(\u001b[0m\u001b[0mhtml\u001b[0m\u001b[1;33m)\u001b[0m\u001b[1;33m\u001b[0m\u001b[0m\n\u001b[0m\u001b[0;32m     36\u001b[0m     \u001b[0mmv_name\u001b[0m\u001b[1;33m=\u001b[0m\u001b[0mhpr\u001b[0m\u001b[1;33m.\u001b[0m\u001b[0mdata\u001b[0m\u001b[1;33m\u001b[0m\u001b[0m\n\u001b[0;32m     37\u001b[0m     \u001b[0mhpr\u001b[0m\u001b[1;33m.\u001b[0m\u001b[0mclose\u001b[0m\u001b[1;33m(\u001b[0m\u001b[1;33m)\u001b[0m\u001b[1;33m\u001b[0m\u001b[0m\n",
      "\u001b[1;32mE:\\Coding\\Python2.7\\lib\\HTMLParser.pyc\u001b[0m in \u001b[0;36mfeed\u001b[1;34m(self, data)\u001b[0m\n\u001b[0;32m    115\u001b[0m         \"\"\"\n\u001b[0;32m    116\u001b[0m         \u001b[0mself\u001b[0m\u001b[1;33m.\u001b[0m\u001b[0mrawdata\u001b[0m \u001b[1;33m=\u001b[0m \u001b[0mself\u001b[0m\u001b[1;33m.\u001b[0m\u001b[0mrawdata\u001b[0m \u001b[1;33m+\u001b[0m \u001b[0mdata\u001b[0m\u001b[1;33m\u001b[0m\u001b[0m\n\u001b[1;32m--> 117\u001b[1;33m         \u001b[0mself\u001b[0m\u001b[1;33m.\u001b[0m\u001b[0mgoahead\u001b[0m\u001b[1;33m(\u001b[0m\u001b[1;36m0\u001b[0m\u001b[1;33m)\u001b[0m\u001b[1;33m\u001b[0m\u001b[0m\n\u001b[0m\u001b[0;32m    118\u001b[0m \u001b[1;33m\u001b[0m\u001b[0m\n\u001b[0;32m    119\u001b[0m     \u001b[1;32mdef\u001b[0m \u001b[0mclose\u001b[0m\u001b[1;33m(\u001b[0m\u001b[0mself\u001b[0m\u001b[1;33m)\u001b[0m\u001b[1;33m:\u001b[0m\u001b[1;33m\u001b[0m\u001b[0m\n",
      "\u001b[1;32mE:\\Coding\\Python2.7\\lib\\HTMLParser.pyc\u001b[0m in \u001b[0;36mgoahead\u001b[1;34m(self, end)\u001b[0m\n\u001b[0;32m    159\u001b[0m             \u001b[1;32mif\u001b[0m \u001b[0mstartswith\u001b[0m\u001b[1;33m(\u001b[0m\u001b[1;34m'<'\u001b[0m\u001b[1;33m,\u001b[0m \u001b[0mi\u001b[0m\u001b[1;33m)\u001b[0m\u001b[1;33m:\u001b[0m\u001b[1;33m\u001b[0m\u001b[0m\n\u001b[0;32m    160\u001b[0m                 \u001b[1;32mif\u001b[0m \u001b[0mstarttagopen\u001b[0m\u001b[1;33m.\u001b[0m\u001b[0mmatch\u001b[0m\u001b[1;33m(\u001b[0m\u001b[0mrawdata\u001b[0m\u001b[1;33m,\u001b[0m \u001b[0mi\u001b[0m\u001b[1;33m)\u001b[0m\u001b[1;33m:\u001b[0m \u001b[1;31m# < + letter\u001b[0m\u001b[1;33m\u001b[0m\u001b[0m\n\u001b[1;32m--> 161\u001b[1;33m                     \u001b[0mk\u001b[0m \u001b[1;33m=\u001b[0m \u001b[0mself\u001b[0m\u001b[1;33m.\u001b[0m\u001b[0mparse_starttag\u001b[0m\u001b[1;33m(\u001b[0m\u001b[0mi\u001b[0m\u001b[1;33m)\u001b[0m\u001b[1;33m\u001b[0m\u001b[0m\n\u001b[0m\u001b[0;32m    162\u001b[0m                 \u001b[1;32melif\u001b[0m \u001b[0mstartswith\u001b[0m\u001b[1;33m(\u001b[0m\u001b[1;34m\"</\"\u001b[0m\u001b[1;33m,\u001b[0m \u001b[0mi\u001b[0m\u001b[1;33m)\u001b[0m\u001b[1;33m:\u001b[0m\u001b[1;33m\u001b[0m\u001b[0m\n\u001b[0;32m    163\u001b[0m                     \u001b[0mk\u001b[0m \u001b[1;33m=\u001b[0m \u001b[0mself\u001b[0m\u001b[1;33m.\u001b[0m\u001b[0mparse_endtag\u001b[0m\u001b[1;33m(\u001b[0m\u001b[0mi\u001b[0m\u001b[1;33m)\u001b[0m\u001b[1;33m\u001b[0m\u001b[0m\n",
      "\u001b[1;32mE:\\Coding\\Python2.7\\lib\\HTMLParser.pyc\u001b[0m in \u001b[0;36mparse_starttag\u001b[1;34m(self, i)\u001b[0m\n\u001b[0;32m    306\u001b[0m                 \u001b[0mattrvalue\u001b[0m \u001b[1;33m=\u001b[0m \u001b[0mattrvalue\u001b[0m\u001b[1;33m[\u001b[0m\u001b[1;36m1\u001b[0m\u001b[1;33m:\u001b[0m\u001b[1;33m-\u001b[0m\u001b[1;36m1\u001b[0m\u001b[1;33m]\u001b[0m\u001b[1;33m\u001b[0m\u001b[0m\n\u001b[0;32m    307\u001b[0m             \u001b[1;32mif\u001b[0m \u001b[0mattrvalue\u001b[0m\u001b[1;33m:\u001b[0m\u001b[1;33m\u001b[0m\u001b[0m\n\u001b[1;32m--> 308\u001b[1;33m                 \u001b[0mattrvalue\u001b[0m \u001b[1;33m=\u001b[0m \u001b[0mself\u001b[0m\u001b[1;33m.\u001b[0m\u001b[0munescape\u001b[0m\u001b[1;33m(\u001b[0m\u001b[0mattrvalue\u001b[0m\u001b[1;33m)\u001b[0m\u001b[1;33m\u001b[0m\u001b[0m\n\u001b[0m\u001b[0;32m    309\u001b[0m             \u001b[0mattrs\u001b[0m\u001b[1;33m.\u001b[0m\u001b[0mappend\u001b[0m\u001b[1;33m(\u001b[0m\u001b[1;33m(\u001b[0m\u001b[0mattrname\u001b[0m\u001b[1;33m.\u001b[0m\u001b[0mlower\u001b[0m\u001b[1;33m(\u001b[0m\u001b[1;33m)\u001b[0m\u001b[1;33m,\u001b[0m \u001b[0mattrvalue\u001b[0m\u001b[1;33m)\u001b[0m\u001b[1;33m)\u001b[0m\u001b[1;33m\u001b[0m\u001b[0m\n\u001b[0;32m    310\u001b[0m             \u001b[0mk\u001b[0m \u001b[1;33m=\u001b[0m \u001b[0mm\u001b[0m\u001b[1;33m.\u001b[0m\u001b[0mend\u001b[0m\u001b[1;33m(\u001b[0m\u001b[1;33m)\u001b[0m\u001b[1;33m\u001b[0m\u001b[0m\n",
      "\u001b[1;32mE:\\Coding\\Python2.7\\lib\\HTMLParser.pyc\u001b[0m in \u001b[0;36munescape\u001b[1;34m(self, s)\u001b[0m\n\u001b[0;32m    473\u001b[0m                     \u001b[1;32mreturn\u001b[0m \u001b[1;34m'&'\u001b[0m\u001b[1;33m+\u001b[0m\u001b[0ms\u001b[0m\u001b[1;33m+\u001b[0m\u001b[1;34m';'\u001b[0m\u001b[1;33m\u001b[0m\u001b[0m\n\u001b[0;32m    474\u001b[0m \u001b[1;33m\u001b[0m\u001b[0m\n\u001b[1;32m--> 475\u001b[1;33m         \u001b[1;32mreturn\u001b[0m \u001b[0mre\u001b[0m\u001b[1;33m.\u001b[0m\u001b[0msub\u001b[0m\u001b[1;33m(\u001b[0m\u001b[1;34mr\"&(#?[xX]?(?:[0-9a-fA-F]+|\\w{1,8}));\"\u001b[0m\u001b[1;33m,\u001b[0m \u001b[0mreplaceEntities\u001b[0m\u001b[1;33m,\u001b[0m \u001b[0ms\u001b[0m\u001b[1;33m)\u001b[0m\u001b[1;33m\u001b[0m\u001b[0m\n\u001b[0m",
      "\u001b[1;32mE:\\Coding\\Python2.7\\lib\\re.pyc\u001b[0m in \u001b[0;36msub\u001b[1;34m(pattern, repl, string, count, flags)\u001b[0m\n\u001b[0;32m    153\u001b[0m     \u001b[0ma\u001b[0m \u001b[0mcallable\u001b[0m\u001b[1;33m,\u001b[0m \u001b[0mit\u001b[0m\u001b[0;31m'\u001b[0m\u001b[0ms\u001b[0m \u001b[0mpassed\u001b[0m \u001b[0mthe\u001b[0m \u001b[0mmatch\u001b[0m \u001b[0mobject\u001b[0m \u001b[1;32mand\u001b[0m \u001b[0mmust\u001b[0m \u001b[1;32mreturn\u001b[0m\u001b[1;33m\u001b[0m\u001b[0m\n\u001b[0;32m    154\u001b[0m     a replacement string to be used.\"\"\"\n\u001b[1;32m--> 155\u001b[1;33m     \u001b[1;32mreturn\u001b[0m \u001b[0m_compile\u001b[0m\u001b[1;33m(\u001b[0m\u001b[0mpattern\u001b[0m\u001b[1;33m,\u001b[0m \u001b[0mflags\u001b[0m\u001b[1;33m)\u001b[0m\u001b[1;33m.\u001b[0m\u001b[0msub\u001b[0m\u001b[1;33m(\u001b[0m\u001b[0mrepl\u001b[0m\u001b[1;33m,\u001b[0m \u001b[0mstring\u001b[0m\u001b[1;33m,\u001b[0m \u001b[0mcount\u001b[0m\u001b[1;33m)\u001b[0m\u001b[1;33m\u001b[0m\u001b[0m\n\u001b[0m\u001b[0;32m    156\u001b[0m \u001b[1;33m\u001b[0m\u001b[0m\n\u001b[0;32m    157\u001b[0m \u001b[1;32mdef\u001b[0m \u001b[0msubn\u001b[0m\u001b[1;33m(\u001b[0m\u001b[0mpattern\u001b[0m\u001b[1;33m,\u001b[0m \u001b[0mrepl\u001b[0m\u001b[1;33m,\u001b[0m \u001b[0mstring\u001b[0m\u001b[1;33m,\u001b[0m \u001b[0mcount\u001b[0m\u001b[1;33m=\u001b[0m\u001b[1;36m0\u001b[0m\u001b[1;33m,\u001b[0m \u001b[0mflags\u001b[0m\u001b[1;33m=\u001b[0m\u001b[1;36m0\u001b[0m\u001b[1;33m)\u001b[0m\u001b[1;33m:\u001b[0m\u001b[1;33m\u001b[0m\u001b[0m\n",
      "\u001b[1;31mUnicodeDecodeError\u001b[0m: 'ascii' codec can't decode byte 0xe5 in position 0: ordinal not in range(128)"
     ]
    }
   ],
   "source": [
    "get_mv_name('2067606')"
   ]
  },
  {
   "cell_type": "code",
   "execution_count": 148,
   "metadata": {
    "collapsed": true
   },
   "outputs": [],
   "source": [
    "D=list()"
   ]
  },
  {
   "cell_type": "code",
   "execution_count": 156,
   "metadata": {
    "collapsed": false
   },
   "outputs": [
    {
     "name": "stdout",
     "output_type": "stream",
     "text": [
      "[u'\\u3010MV\\u3011\\u5468\\u6df1\\n\\t-\\u5927\\u9c7c \\u7535\\u5f71']\n",
      "[u'\\u3010MV\\u3011\\u5468\\u6df1\\n\\t-\\u5927\\u9c7c \\u7535\\u5f71', u'\\u5927\\u9c7c\\u6d77\\u68e0']\n",
      "[u'\\u3010MV\\u3011\\u5468\\u6df1\\n\\t-\\u5927\\u9c7c \\u7535\\u5f71', u'\\u5927\\u9c7c\\u6d77\\u68e0', u'\\u5370\\u8c61\\u66f2-\\u9ad8\\u6e05MV\\u5728\\u7ebf\\u64ad\\u653e-\\u97f3\\u60a6Tai-\\u53e3\\u888b\\xb7FAN-\\u770b\\u597d\\u97f3\\u4e50']\n"
     ]
    }
   ],
   "source": [
    "#mv_id='2067606'\n",
    "mv_id='2573570'\n",
    "#get html according to mv_id\n",
    "url='http://v.yinyuetai.com/video/'+str(mv_id)\n",
    "i=urlopen(url)\n",
    "html=i.read()\n",
    "if python_version()==3:\n",
    "    codec = i.info().get_param('charset', 'utf8')\n",
    "    html = html.decode(codec,errors='ignore')\n",
    "        \n",
    "i.close()\n",
    "\n",
    "#parse html and get title\n",
    "\n",
    "class Hpr(HTMLParser):\n",
    "    \n",
    "    def handle_starttag(self,tag,attr):\n",
    "        if tag=='title':\n",
    "            self.handle_data=self.get_data\n",
    "            self.data=list()\n",
    "            #print('title start')\n",
    "    def handle_endtag(self,tag):\n",
    "        if tag=='title':\n",
    "            self.handle_data=self.do_nothing\n",
    "            #print('title end')\n",
    "                \n",
    "    def do_nothing(self,data):\n",
    "        pass\n",
    "    def get_data(self,data):\n",
    "        #print(data)\n",
    "        self.data.append(data)\n",
    "\n",
    "        #print(data)\n",
    "        print(self.data)\n",
    "        \n",
    "if python_version()==3:\n",
    "    hpr=Hpr(convert_charrefs=False)\n",
    "elif python_version()==2:\n",
    "    hpr=Hpr()\n",
    "hpr.feed(unicode(html,'utf-8'))\n",
    "mv_name=hpr.data\n",
    "hpr.close()\n",
    "\n",
    "#print(type(mv_name))"
   ]
  },
  {
   "cell_type": "code",
   "execution_count": 157,
   "metadata": {
    "collapsed": false
   },
   "outputs": [
    {
     "name": "stdout",
     "output_type": "stream",
     "text": [
      "【MV】周深\n",
      "\t-大鱼 电影\n",
      "大鱼海棠\n",
      "印象曲-高清MV在线播放-音悦Tai-口袋·FAN-看好音乐\n"
     ]
    }
   ],
   "source": [
    "print(mv_name[0])\n",
    "print(mv_name[1])\n",
    "print(mv_name[2])"
   ]
  },
  {
   "cell_type": "code",
   "execution_count": 160,
   "metadata": {
    "collapsed": false
   },
   "outputs": [],
   "source": [
    "mv_name=''.join(mv_name)"
   ]
  },
  {
   "cell_type": "code",
   "execution_count": 161,
   "metadata": {
    "collapsed": false
   },
   "outputs": [
    {
     "name": "stdout",
     "output_type": "stream",
     "text": [
      "【MV】周深\n",
      "\t-大鱼 电影大鱼海棠印象曲-高清MV在线播放-音悦Tai-口袋·FAN-看好音乐\n"
     ]
    },
    {
     "data": {
      "text/plain": [
       "u'\\u3010MV\\u3011\\u5468\\u6df1\\n\\t-\\u5927\\u9c7c \\u7535\\u5f71\\u5927\\u9c7c\\u6d77\\u68e0\\u5370\\u8c61\\u66f2-\\u9ad8\\u6e05MV\\u5728\\u7ebf\\u64ad\\u653e-\\u97f3\\u60a6Tai-\\u53e3\\u888b\\xb7FAN-\\u770b\\u597d\\u97f3\\u4e50'"
      ]
     },
     "execution_count": 161,
     "metadata": {},
     "output_type": "execute_result"
    }
   ],
   "source": [
    "print(mv_name)\n",
    "mv_name"
   ]
  },
  {
   "cell_type": "code",
   "execution_count": 110,
   "metadata": {
    "collapsed": false
   },
   "outputs": [],
   "source": [
    "mv_name='【MV】周深\\n\\t-大鱼 电影  大鱼海棠 印象曲-高清MV在线播放-音悦Tai-口袋·FAN-看好音乐'"
   ]
  },
  {
   "cell_type": "code",
   "execution_count": 111,
   "metadata": {
    "collapsed": true
   },
   "outputs": [],
   "source": [
    "import re"
   ]
  },
  {
   "cell_type": "code",
   "execution_count": 122,
   "metadata": {
    "collapsed": false
   },
   "outputs": [],
   "source": [
    "ps=unicode('-高清MV','utf-8')"
   ]
  },
  {
   "cell_type": "code",
   "execution_count": 165,
   "metadata": {
    "collapsed": true
   },
   "outputs": [],
   "source": [
    "pat='(?<=-)(.*)(?=%s)'%ps"
   ]
  },
  {
   "cell_type": "code",
   "execution_count": 124,
   "metadata": {
    "collapsed": false
   },
   "outputs": [
    {
     "data": {
      "text/plain": [
       "u'(.*)(?=-\\u9ad8\\u6e05MV)'"
      ]
     },
     "execution_count": 124,
     "metadata": {},
     "output_type": "execute_result"
    }
   ],
   "source": [
    "pat"
   ]
  },
  {
   "cell_type": "code",
   "execution_count": 166,
   "metadata": {
    "collapsed": true
   },
   "outputs": [],
   "source": [
    "m=re.search(pat,mv_name)"
   ]
  },
  {
   "cell_type": "code",
   "execution_count": 167,
   "metadata": {
    "collapsed": false
   },
   "outputs": [],
   "source": [
    "tn=m.group(0)"
   ]
  },
  {
   "cell_type": "code",
   "execution_count": 76,
   "metadata": {
    "collapsed": false
   },
   "outputs": [],
   "source": [
    "tn=mv_name.split('\\n\\t-')[1].split('高清MV')[0]+'-音悦Tai'+'.mp4'"
   ]
  },
  {
   "cell_type": "code",
   "execution_count": 168,
   "metadata": {
    "collapsed": false
   },
   "outputs": [
    {
     "name": "stdout",
     "output_type": "stream",
     "text": [
      "大鱼 电影大鱼海棠印象曲\n"
     ]
    }
   ],
   "source": [
    "print(tn)"
   ]
  },
  {
   "cell_type": "code",
   "execution_count": 62,
   "metadata": {
    "collapsed": false
   },
   "outputs": [],
   "source": [
    "def format_mv_name(name):\n",
    "    #because of MPEG-4 belongs to MP4\n",
    "\n",
    "    return name.split('\\n\\t')[-1].split('-')[1]+'-音悦Tai'+'.mp4'\n"
   ]
  },
  {
   "cell_type": "code",
   "execution_count": 6,
   "metadata": {
    "collapsed": false
   },
   "outputs": [
    {
     "name": "stdout",
     "output_type": "stream",
     "text": [
      "【MV】TFBOYS\n",
      "\t-样(YOUNG) 官方版-高清MV在线播放-音悦Tai-口袋·FAN-看好音乐\n"
     ]
    }
   ],
   "source": [
    "print(mv_name)"
   ]
  },
  {
   "cell_type": "code",
   "execution_count": null,
   "metadata": {
    "collapsed": false
   },
   "outputs": [],
   "source": [
    "print(mv_name.decode('latin-1'))"
   ]
  },
  {
   "cell_type": "code",
   "execution_count": null,
   "metadata": {
    "collapsed": false
   },
   "outputs": [],
   "source": [
    "t=mv_name.split('\\n\\t')[-1].split('-')[1]+'--音悦Tai'+'.mp4'"
   ]
  },
  {
   "cell_type": "code",
   "execution_count": null,
   "metadata": {
    "collapsed": false
   },
   "outputs": [],
   "source": [
    "print(t)"
   ]
  },
  {
   "cell_type": "code",
   "execution_count": 8,
   "metadata": {
    "collapsed": false
   },
   "outputs": [],
   "source": [
    "fn=format_mv_name(mv_name)"
   ]
  },
  {
   "cell_type": "code",
   "execution_count": 9,
   "metadata": {
    "collapsed": false
   },
   "outputs": [],
   "source": [
    "uf=unicode(fn,'utf-8')"
   ]
  },
  {
   "cell_type": "code",
   "execution_count": 11,
   "metadata": {
    "collapsed": false
   },
   "outputs": [
    {
     "name": "stdout",
     "output_type": "stream",
     "text": [
      "样(YOUNG) 官方版--音悦Tai.mp4\n"
     ]
    }
   ],
   "source": [
    "print(uf)"
   ]
  },
  {
   "cell_type": "code",
   "execution_count": null,
   "metadata": {
    "collapsed": false
   },
   "outputs": [],
   "source": [
    "f=open(,'wb')"
   ]
  },
  {
   "cell_type": "code",
   "execution_count": null,
   "metadata": {
    "collapsed": true
   },
   "outputs": [],
   "source": [
    "f.close()"
   ]
  },
  {
   "cell_type": "code",
   "execution_count": null,
   "metadata": {
    "collapsed": true
   },
   "outputs": [],
   "source": []
  },
  {
   "cell_type": "code",
   "execution_count": null,
   "metadata": {
    "collapsed": false
   },
   "outputs": [],
   "source": [
    "open(fn.,'w')"
   ]
  },
  {
   "cell_type": "code",
   "execution_count": null,
   "metadata": {
    "collapsed": false
   },
   "outputs": [],
   "source": [
    "open('hi','wb')"
   ]
  },
  {
   "cell_type": "code",
   "execution_count": 12,
   "metadata": {
    "collapsed": true
   },
   "outputs": [],
   "source": [
    "def a(file='a'):\n",
    "    print(file)"
   ]
  },
  {
   "cell_type": "code",
   "execution_count": 55,
   "metadata": {
    "collapsed": true
   },
   "outputs": [],
   "source": [
    "def format_csv(csv_reader):\n",
    "    l=list()\n",
    "    [[ l.append(item.strip()) for item in items  if item.strip()!=''] for items in csv_reader]\n",
    "    return l"
   ]
  },
  {
   "cell_type": "code",
   "execution_count": 56,
   "metadata": {
    "collapsed": false
   },
   "outputs": [],
   "source": [
    "with open('mv_ids.txt') as f:\n",
    "    r=csv.reader(f)\n",
    "    l=format_csv(r)"
   ]
  },
  {
   "cell_type": "code",
   "execution_count": 57,
   "metadata": {
    "collapsed": false
   },
   "outputs": [
    {
     "data": {
      "text/plain": [
       "['2278607', '2571488', '2563864']"
      ]
     },
     "execution_count": 57,
     "metadata": {},
     "output_type": "execute_result"
    }
   ],
   "source": [
    "l"
   ]
  },
  {
   "cell_type": "code",
   "execution_count": 47,
   "metadata": {
    "collapsed": false
   },
   "outputs": [
    {
     "name": "stdout",
     "output_type": "stream",
     "text": [
      "['2278607', ' 2571488', ' ']\n",
      "[' 2563864       ']\n"
     ]
    }
   ],
   "source": [
    "import csv\n",
    "with open('mv_ids.txt') as f:\n",
    "    l=csv.reader(f)\n",
    "    for row in l:\n",
    "        print(row)"
   ]
  },
  {
   "cell_type": "code",
   "execution_count": null,
   "metadata": {
    "collapsed": true
   },
   "outputs": [],
   "source": []
  },
  {
   "cell_type": "code",
   "execution_count": 42,
   "metadata": {
    "collapsed": false
   },
   "outputs": [],
   "source": [
    "import os"
   ]
  },
  {
   "cell_type": "code",
   "execution_count": 44,
   "metadata": {
    "collapsed": false
   },
   "outputs": [
    {
     "data": {
      "text/plain": [
       "False"
      ]
     },
     "execution_count": 44,
     "metadata": {},
     "output_type": "execute_result"
    }
   ],
   "source": [
    "os.path.isdir('E:\\Coding\\Python3.4\\Lib\\cmd.py')"
   ]
  },
  {
   "cell_type": "code",
   "execution_count": 45,
   "metadata": {
    "collapsed": true
   },
   "outputs": [],
   "source": [
    "c=('asasa'\n",
    "  'asasa'\n",
    "  'asas')"
   ]
  },
  {
   "cell_type": "code",
   "execution_count": 46,
   "metadata": {
    "collapsed": false
   },
   "outputs": [
    {
     "data": {
      "text/plain": [
       "'asasaasasaasas'"
      ]
     },
     "execution_count": 46,
     "metadata": {},
     "output_type": "execute_result"
    }
   ],
   "source": [
    "c"
   ]
  }
 ],
 "metadata": {
  "kernelspec": {
   "display_name": "Python 2",
   "language": "python",
   "name": "python2"
  },
  "language_info": {
   "codemirror_mode": {
    "name": "ipython",
    "version": 3
   },
   "file_extension": ".py",
   "mimetype": "text/x-python",
   "name": "python",
   "nbconvert_exporter": "python",
   "pygments_lexer": "ipython3",
   "version": "3.5.1"
  }
 },
 "nbformat": 4,
 "nbformat_minor": 0
}
