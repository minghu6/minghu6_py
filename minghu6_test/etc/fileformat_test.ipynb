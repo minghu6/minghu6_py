{
 "cells": [
  {
   "cell_type": "code",
   "execution_count": 1,
   "metadata": {
    "collapsed": false
   },
   "outputs": [],
   "source": [
    "from minghu6.algs.var import allequal"
   ]
  },
  {
   "cell_type": "code",
   "execution_count": 15,
   "metadata": {
    "collapsed": false
   },
   "outputs": [],
   "source": [
    "import struct \n",
    "# 支持文件类型  \n",
    "# 用16进制字符串的目的是可以知道文件头是多少字节  \n",
    "# 各种文件头的长度不一样，少则2字符，长则8字符  \n",
    "def typeList():  \n",
    "    return { \"FFD8FF\": \"JPEG\",  \n",
    "            \"89504E47\": \"PNG\"}  \n",
    "type\n",
    " \n",
    "# 获取文件类型  \n",
    "def filetype(filename):\n",
    "    with open(filename, 'rb') as binfile:# 必需二制字读取\n",
    "        tl = typeList()\n",
    "        ftype = 'unknown'\n",
    "        for hcode in tl.keys():  \n",
    "            numOfBytes = len(hcode) // 2 # 需要读多少字节  \n",
    "            binfile.seek(0) # 每次读取都要回到文件头，不然会一直往后读取  \n",
    "            hbytes = struct.unpack_from(\"B\"*numOfBytes, binfile.read(numOfBytes)) # 一个 \"B\"表示一个字节  \n",
    "                        \n",
    "            if allequal(hbytes, hexStr_bytesIter(hcode)):  \n",
    "                ftype = tl[hcode]  \n",
    "                break\n",
    "    return ftype"
   ]
  },
  {
   "cell_type": "code",
   "execution_count": 9,
   "metadata": {
    "collapsed": false
   },
   "outputs": [
    {
     "data": {
      "text/plain": [
       "'JPEG'"
      ]
     },
     "execution_count": 9,
     "metadata": {},
     "output_type": "execute_result"
    }
   ],
   "source": [
    "filetype(r'D:\\Coding\\Python35\\python_scripts\\Test\\tom1.jpg')"
   ]
  },
  {
   "cell_type": "code",
   "execution_count": null,
   "metadata": {
    "collapsed": false
   },
   "outputs": [],
   "source": [
    "i=int(\"FFD8FF\", 16)\n",
    "bin(i)"
   ]
  },
  {
   "cell_type": "code",
   "execution_count": null,
   "metadata": {
    "collapsed": false
   },
   "outputs": [],
   "source": [
    "s = \"FFD8FF\"\n",
    "l = []\n",
    "for i in range(len(s)//2):\n",
    "    l.append(int(s[i*2]+s[i*2+1], 16))"
   ]
  },
  {
   "cell_type": "code",
   "execution_count": 14,
   "metadata": {
    "collapsed": false
   },
   "outputs": [],
   "source": [
    "def hexStr_bytesIter(hexStr):\n",
    "    # only support hex \n",
    "    if len(hexStr) >=2 and hexStr[:2].lower() == '0x':\n",
    "        hexStr = hexStr[2:]\n",
    "        \n",
    "    if len(hexStr) % 2 != 0:\n",
    "        raise CanNotBeBytes\n",
    "        \n",
    "    #hexStr_length = len(hexStr)\n",
    "    #value = int(s, base=16)\n",
    "    #format(value, '0'+str(hexStr_length)+'d')\n",
    "\n",
    "    for i in range(len(hexStr)//2):\n",
    "        yield int(hexStr[i*2]+hexStr[i*2+1], 16)"
   ]
  },
  {
   "cell_type": "code",
   "execution_count": 5,
   "metadata": {
    "collapsed": true
   },
   "outputs": [],
   "source": [
    "from functools import partial"
   ]
  },
  {
   "cell_type": "code",
   "execution_count": 7,
   "metadata": {
    "collapsed": false
   },
   "outputs": [],
   "source": [
    "hexStr_bytesIter = partial(numStr_bytesIter, base=16)"
   ]
  },
  {
   "cell_type": "code",
   "execution_count": 16,
   "metadata": {
    "collapsed": false
   },
   "outputs": [
    {
     "name": "stdout",
     "output_type": "stream",
     "text": [
      "255\n",
      "216\n",
      "255\n"
     ]
    }
   ],
   "source": [
    "for i in hexStr_bytesIter(\"FFD8FF\"):\n",
    "    print(i)"
   ]
  },
  {
   "cell_type": "code",
   "execution_count": 6,
   "metadata": {
    "collapsed": true
   },
   "outputs": [],
   "source": [
    "class CanNotBeBytes(Exception):pass"
   ]
  },
  {
   "cell_type": "code",
   "execution_count": null,
   "metadata": {
    "collapsed": false
   },
   "outputs": [],
   "source": [
    "('0xad')[2:]"
   ]
  },
  {
   "cell_type": "code",
   "execution_count": null,
   "metadata": {
    "collapsed": false
   },
   "outputs": [],
   "source": [
    "int(bytes(b'1000'), 2)"
   ]
  },
  {
   "cell_type": "code",
   "execution_count": null,
   "metadata": {
    "collapsed": false
   },
   "outputs": [],
   "source": [
    "bytes(str(int('4', 16)),'utf-8')"
   ]
  },
  {
   "cell_type": "code",
   "execution_count": null,
   "metadata": {
    "collapsed": false
   },
   "outputs": [],
   "source": [
    "def itor1(): yield from [0, 1, 2]\n",
    "itor2 = [0, 1, 2]"
   ]
  },
  {
   "cell_type": "code",
   "execution_count": null,
   "metadata": {
    "collapsed": false
   },
   "outputs": [],
   "source": [
    "for i1, i2 in zip(itor1(), itor2):\n",
    "    print(i1, i2)"
   ]
  },
  {
   "cell_type": "code",
   "execution_count": null,
   "metadata": {
    "collapsed": false
   },
   "outputs": [],
   "source": [
    "from itertools import zip_longest"
   ]
  },
  {
   "cell_type": "code",
   "execution_count": null,
   "metadata": {
    "collapsed": true
   },
   "outputs": [],
   "source": [
    "import random"
   ]
  },
  {
   "cell_type": "code",
   "execution_count": null,
   "metadata": {
    "collapsed": false
   },
   "outputs": [],
   "source": [
    "while True:\n",
    "    if fv in \n",
    "fv= random.random()"
   ]
  },
  {
   "cell_type": "code",
   "execution_count": null,
   "metadata": {
    "collapsed": false
   },
   "outputs": [],
   "source": [
    "type(itor1())"
   ]
  },
  {
   "cell_type": "code",
   "execution_count": null,
   "metadata": {
    "collapsed": true
   },
   "outputs": [],
   "source": [
    "from itera"
   ]
  },
  {
   "cell_type": "code",
   "execution_count": null,
   "metadata": {
    "collapsed": false,
    "scrolled": true
   },
   "outputs": [],
   "source": [
    "for i1, i2 in zip_longest(itor1(), itor2, fillvalue=fv):\n",
    "    if i2 == fv:\n",
    "        print('ih')\n",
    "        break"
   ]
  },
  {
   "cell_type": "code",
   "execution_count": null,
   "metadata": {
    "collapsed": true
   },
   "outputs": [],
   "source": [
    "import types"
   ]
  },
  {
   "cell_type": "code",
   "execution_count": null,
   "metadata": {
    "collapsed": false
   },
   "outputs": [],
   "source": [
    "isinstance(itor1(), types.GeneratorType)"
   ]
  },
  {
   "cell_type": "code",
   "execution_count": null,
   "metadata": {
    "collapsed": true
   },
   "outputs": [],
   "source": [
    "import uuid"
   ]
  },
  {
   "cell_type": "code",
   "execution_count": null,
   "metadata": {
    "collapsed": false
   },
   "outputs": [],
   "source": [
    "uuid.uuid3(uuid.NAMESPACE_DNS, 'a')"
   ]
  },
  {
   "cell_type": "code",
   "execution_count": null,
   "metadata": {
    "collapsed": false
   },
   "outputs": [],
   "source": [
    "for i, item in enumerate(itor1()):"
   ]
  },
  {
   "cell_type": "code",
   "execution_count": null,
   "metadata": {
    "collapsed": true
   },
   "outputs": [],
   "source": [
    "from itertools import repeat, chain, z"
   ]
  },
  {
   "cell_type": "code",
   "execution_count": null,
   "metadata": {
    "collapsed": true
   },
   "outputs": [],
   "source": [
    "def zip_longest_self(*args, **kwds):\n",
    "    # zip_longest('ABCD', 'xy', fillvalue='-') --> Ax By C- D-\n",
    "    fillvalue = kwds.get('fillvalue')\n",
    "    counter = len(args) - 1\n",
    "    def sentinel():\n",
    "        nonlocal counter\n",
    "        if not counter:\n",
    "            raise Exception('not counter')\n",
    "        counter -= 1\n",
    "        yield fillvalue\n",
    "    fillers = repeat(fillvalue)\n",
    "    iterators = [chain(it, sentinel(), fillers) for it in args]\n",
    "    try:\n",
    "        while iterators:\n",
    "            yield tuple(map(next, iterators))\n",
    "    except:\n",
    "        pass"
   ]
  },
  {
   "cell_type": "code",
   "execution_count": 5,
   "metadata": {
    "collapsed": false
   },
   "outputs": [
    {
     "ename": "ValueError",
     "evalue": "Invalid format specifier",
     "traceback": [
      "\u001b[0;31m---------------------------------------------------------------------------\u001b[0m",
      "\u001b[0;31mValueError\u001b[0m                                Traceback (most recent call last)",
      "\u001b[0;32m<ipython-input-5-bb9192cd0dac>\u001b[0m in \u001b[0;36m<module>\u001b[0;34m()\u001b[0m\n\u001b[0;32m----> 1\u001b[0;31m \u001b[0mformat\u001b[0m\u001b[1;33m(\u001b[0m\u001b[1;34m'0xab'\u001b[0m\u001b[1;33m,\u001b[0m\u001b[1;34m'%x'\u001b[0m\u001b[1;33m)\u001b[0m\u001b[1;33m\u001b[0m\u001b[0m\n\u001b[0m",
      "\u001b[0;31mValueError\u001b[0m: Invalid format specifier"
     ],
     "output_type": "error"
    }
   ],
   "source": [
    "format('0xab','%x')"
   ]
  },
  {
   "cell_type": "code",
   "execution_count": 9,
   "metadata": {
    "collapsed": false
   },
   "outputs": [
    {
     "data": {
      "text/plain": [
       "'0e'"
      ]
     },
     "execution_count": 9,
     "metadata": {},
     "output_type": "execute_result"
    }
   ],
   "source": [
    "'{0:02x}'.format(14)"
   ]
  },
  {
   "cell_type": "code",
   "execution_count": 13,
   "metadata": {
    "collapsed": false
   },
   "outputs": [
    {
     "data": {
      "text/plain": [
       "'014'"
      ]
     },
     "execution_count": 13,
     "metadata": {},
     "output_type": "execute_result"
    }
   ],
   "source": [
    "format(14, '03d')"
   ]
  }
 ],
 "metadata": {
  "kernelspec": {
   "display_name": "Python 3",
   "language": "python",
   "name": "python3"
  },
  "language_info": {
   "codemirror_mode": {
    "name": "ipython",
    "version": 3.0
   },
   "file_extension": ".py",
   "mimetype": "text/x-python",
   "name": "python",
   "nbconvert_exporter": "python",
   "pygments_lexer": "ipython3",
   "version": "3.5.2"
  }
 },
 "nbformat": 4,
 "nbformat_minor": 0
}