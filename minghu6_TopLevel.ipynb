{
 "cells": [
  {
   "cell_type": "code",
   "execution_count": 30,
   "metadata": {
    "collapsed": false
   },
   "outputs": [],
   "source": [
    "import sys\n",
    "import os\n",
    "import pickle\n",
    "import base64\n",
    "from functools import partial\n",
    "\n",
    "import random\n",
    "import urllib\n",
    "import math"
   ]
  },
  {
   "cell_type": "code",
   "execution_count": 6,
   "metadata": {
    "collapsed": true
   },
   "outputs": [],
   "source": [
    "l=[1, 2,3]"
   ]
  },
  {
   "cell_type": "code",
   "execution_count": 8,
   "metadata": {
    "collapsed": false
   },
   "outputs": [],
   "source": [
    "l.append(4)"
   ]
  },
  {
   "cell_type": "code",
   "execution_count": 13,
   "metadata": {
    "collapsed": false
   },
   "outputs": [
    {
     "ename": "IndexError",
     "evalue": "pop from empty list",
     "output_type": "error",
     "traceback": [
      "\u001b[1;31m---------------------------------------------------------------------------\u001b[0m",
      "\u001b[1;31mIndexError\u001b[0m                                Traceback (most recent call last)",
      "\u001b[1;32m<ipython-input-13-9e6f3717293a>\u001b[0m in \u001b[0;36m<module>\u001b[1;34m()\u001b[0m\n\u001b[1;32m----> 1\u001b[1;33m \u001b[0ml\u001b[0m\u001b[1;33m.\u001b[0m\u001b[0mpop\u001b[0m\u001b[1;33m(\u001b[0m\u001b[1;33m)\u001b[0m\u001b[1;33m\u001b[0m\u001b[0m\n\u001b[0m",
      "\u001b[1;31mIndexError\u001b[0m: pop from empty list"
     ]
    }
   ],
   "source": [
    "l.pop()"
   ]
  },
  {
   "cell_type": "code",
   "execution_count": 41,
   "metadata": {
    "collapsed": false
   },
   "outputs": [
    {
     "data": {
      "text/plain": [
       "1"
      ]
     },
     "execution_count": 41,
     "metadata": {},
     "output_type": "execute_result"
    }
   ],
   "source": [
    "math.ceil(0.2)"
   ]
  },
  {
   "cell_type": "code",
   "execution_count": 55,
   "metadata": {
    "collapsed": false
   },
   "outputs": [
    {
     "ename": "FileNotFoundError",
     "evalue": "[Errno 2] No such file or directory: 'linshi.txt'",
     "output_type": "error",
     "traceback": [
      "\u001b[1;31m---------------------------------------------------------------------------\u001b[0m",
      "\u001b[1;31mFileNotFoundError\u001b[0m                         Traceback (most recent call last)",
      "\u001b[1;32m<ipython-input-55-0b35d84b2f7d>\u001b[0m in \u001b[0;36m<module>\u001b[1;34m()\u001b[0m\n\u001b[1;32m----> 1\u001b[1;33m \u001b[0mf\u001b[0m \u001b[1;33m=\u001b[0m \u001b[0mopen\u001b[0m\u001b[1;33m(\u001b[0m\u001b[1;34m'linshi.txt'\u001b[0m\u001b[1;33m)\u001b[0m\u001b[1;33m\u001b[0m\u001b[0m\n\u001b[0m",
      "\u001b[1;31mFileNotFoundError\u001b[0m: [Errno 2] No such file or directory: 'linshi.txt'"
     ]
    }
   ],
   "source": [
    "f = open('linshi.txt')"
   ]
  },
  {
   "cell_type": "code",
   "execution_count": 51,
   "metadata": {
    "collapsed": false
   },
   "outputs": [],
   "source": [
    "def format_str(s):\n",
    "    \n",
    "    l=[]\n",
    "    ss=[]\n",
    "    for c in s:\n",
    "        if c=='\\\\':\n",
    "            l.append(c)\n",
    "        else:\n",
    "            [ss.append('\\\\') for i in range(len(l)//2)]\n",
    "            if c=='_':\n",
    "                if len(l)%2!=0:# is escaped char\n",
    "                    ss.append('_')\n",
    "                else:\n",
    "                    ss.append(' ')\n",
    "                    \n",
    "                l.clear()\n",
    "            else:\n",
    "                ss.append(c)\n",
    "                    \n",
    "                \n",
    "            \n",
    "    return ''.join(ss)\n",
    "        "
   ]
  },
  {
   "cell_type": "code",
   "execution_count": 54,
   "metadata": {
    "collapsed": false
   },
   "outputs": [
    {
     "data": {
      "text/plain": [
       "'python3 -m minghu6.tools.converCharset --from aa --to bb --Char_seet c'"
      ]
     },
     "execution_count": 54,
     "metadata": {},
     "output_type": "execute_result"
    }
   ],
   "source": [
    "format_str('python3_-m_minghu6.tools.converCharset_--from_aa_--to_bb_--Char\\\\_seet_c')"
   ]
  },
  {
   "cell_type": "code",
   "execution_count": 5,
   "metadata": {
    "collapsed": false
   },
   "outputs": [
    {
     "data": {
      "text/plain": [
       "['abc_', '_def_']"
      ]
     },
     "execution_count": 5,
     "metadata": {},
     "output_type": "execute_result"
    }
   ],
   "source": [
    "'abc_\\\\_def_'.split('\\\\')"
   ]
  },
  {
   "cell_type": "code",
   "execution_count": 7,
   "metadata": {
    "collapsed": false
   },
   "outputs": [
    {
     "data": {
      "text/plain": [
       "'~/AppData/Roaming/GitPad/GitPad.exe'"
      ]
     },
     "execution_count": 7,
     "metadata": {},
     "output_type": "execute_result"
    }
   ],
   "source": [
    "os.environ['EDITOR']"
   ]
  },
  {
   "cell_type": "code",
   "execution_count": 8,
   "metadata": {
    "collapsed": false
   },
   "outputs": [
    {
     "name": "stdout",
     "output_type": "stream",
     "text": [
      "The Zen of Python, by Tim Peters\n",
      "\n",
      "Beautiful is better than ugly.\n",
      "Explicit is better than implicit.\n",
      "Simple is better than complex.\n",
      "Complex is better than complicated.\n",
      "Flat is better than nested.\n",
      "Sparse is better than dense.\n",
      "Readability counts.\n",
      "Special cases aren't special enough to break the rules.\n",
      "Although practicality beats purity.\n",
      "Errors should never pass silently.\n",
      "Unless explicitly silenced.\n",
      "In the face of ambiguity, refuse the temptation to guess.\n",
      "There should be one-- and preferably only one --obvious way to do it.\n",
      "Although that way may not be obvious at first unless you're Dutch.\n",
      "Now is better than never.\n",
      "Although never is often better than *right* now.\n",
      "If the implementation is hard to explain, it's a bad idea.\n",
      "If the implementation is easy to explain, it may be a good idea.\n",
      "Namespaces are one honking great idea -- let's do more of those!\n"
     ]
    }
   ],
   "source": [
    "import this"
   ]
  },
  {
   "cell_type": "code",
   "execution_count": 39,
   "metadata": {
    "collapsed": true
   },
   "outputs": [],
   "source": [
    "def fast_exp_mod(b, e, m):\n",
    "    \"\"\"\n",
    "    e = e0*(2^0) + e1*(2^1) + e2*(2^2) + ... + en * (2^n)\n",
    "\n",
    "    b^e = b^(e0*(2^0) + e1*(2^1) + e2*(2^2) + ... + en * (2^n))\n",
    "        = b^(e0*(2^0)) * b^(e1*(2^1)) * b^(e2*(2^2)) * ... * b^(en*(2^n))\n",
    "\n",
    "    b^e mod m = ((b^(e0*(2^0)) mod m) * (b^(e1*(2^1)) mod m) * (b^(e2*(2^2)) mod m) * ... * (b^(en*(2^n)) mod m) mod m\n",
    "\n",
    "    return b^e mod m\n",
    "    \"\"\"\n",
    "    result = 1\n",
    "    while e != 0:\n",
    "        if (int(e) & 1) == 1:\n",
    "            # ei = 1, then mul\n",
    "            result = (result * b) % m\n",
    "        e =int(e) >>  1\n",
    "        # b, b^2, b^4, b^8, ... , b^(2^n)\n",
    "        b = (b*b) % m\n",
    "    return result"
   ]
  },
  {
   "cell_type": "code",
   "execution_count": 40,
   "metadata": {
    "collapsed": true
   },
   "outputs": [],
   "source": [
    "def extendedGCD(a, b):\n",
    "    #a*xi + b*yi = ri\n",
    "    if b == 0:\n",
    "        return (1, 0, a)\n",
    "    #a*x1 + b*y1 = a\n",
    "    x1 = 1\n",
    "    y1 = 0\n",
    "    #a*x2 + b*y2 = b\n",
    "    x2 = 0\n",
    "    y2 = 1\n",
    "    while b != 0:\n",
    "        q = a / b\n",
    "        #ri = r(i-2) % r(i-1)\n",
    "        r = a % b\n",
    "        a = b\n",
    "        b = r\n",
    "        #xi = x(i-2) - q*x(i-1)\n",
    "        x = x1 - q*x2\n",
    "        x1 = x2\n",
    "        x2 = x\n",
    "        #yi = y(i-2) - q*y(i-1)\n",
    "        y = y1 - q*y2\n",
    "        y1 = y2\n",
    "        y2 = y\n",
    "    return(x1, y1, a)"
   ]
  },
  {
   "cell_type": "code",
   "execution_count": 41,
   "metadata": {
    "collapsed": false
   },
   "outputs": [
    {
     "data": {
      "text/plain": [
       "(0, 1, 5)"
      ]
     },
     "execution_count": 41,
     "metadata": {},
     "output_type": "execute_result"
    }
   ],
   "source": [
    "extendedGCD(10, 5)"
   ]
  },
  {
   "cell_type": "code",
   "execution_count": 24,
   "metadata": {
    "collapsed": false
   },
   "outputs": [
    {
     "data": {
      "text/plain": [
       "(-1.5, 2.0, 2)"
      ]
     },
     "execution_count": 24,
     "metadata": {},
     "output_type": "execute_result"
    }
   ],
   "source": [
    "extendedGCD(4, 6)"
   ]
  },
  {
   "cell_type": "code",
   "execution_count": 26,
   "metadata": {
    "collapsed": false
   },
   "outputs": [
    {
     "data": {
      "text/plain": [
       "(1.0, -0.5, 2)"
      ]
     },
     "execution_count": 26,
     "metadata": {},
     "output_type": "execute_result"
    }
   ],
   "source": [
    "extendedGCD(2,4)"
   ]
  },
  {
   "cell_type": "code",
   "execution_count": 27,
   "metadata": {
    "collapsed": false
   },
   "outputs": [
    {
     "data": {
      "text/plain": [
       "(-1.5, 2.0, 1)"
      ]
     },
     "execution_count": 27,
     "metadata": {},
     "output_type": "execute_result"
    }
   ],
   "source": [
    "extendedGCD(2,3)"
   ]
  },
  {
   "cell_type": "code",
   "execution_count": 63,
   "metadata": {
    "collapsed": true
   },
   "outputs": [],
   "source": [
    "def ext_euclid ( a , b ):\n",
    "    if (b == 0):\n",
    "        return 1, 0, a\n",
    "    else:\n",
    "        x , y , q = ext_euclid( b , a % b )\n",
    "        x , y = y, ( x - (a // b) * y )\n",
    "        return x, y, q"
   ]
  },
  {
   "cell_type": "code",
   "execution_count": 64,
   "metadata": {
    "collapsed": false
   },
   "outputs": [
    {
     "data": {
      "text/plain": [
       "(0, 1, 5)"
      ]
     },
     "execution_count": 64,
     "metadata": {},
     "output_type": "execute_result"
    }
   ],
   "source": [
    "ext_euclid(10, 5)"
   ]
  },
  {
   "cell_type": "code",
   "execution_count": 80,
   "metadata": {
    "collapsed": false
   },
   "outputs": [
    {
     "ename": "Exception",
     "evalue": "Argument Error",
     "output_type": "error",
     "traceback": [
      "\u001b[1;31m---------------------------------------------------------------------------\u001b[0m",
      "\u001b[1;31mException\u001b[0m                                 Traceback (most recent call last)",
      "\u001b[1;32m<ipython-input-80-bf6d302e8c3a>\u001b[0m in \u001b[0;36m<module>\u001b[1;34m()\u001b[0m\n\u001b[1;32m----> 1\u001b[1;33m \u001b[1;32mraise\u001b[0m \u001b[0mException\u001b[0m\u001b[1;33m(\u001b[0m\u001b[1;34m'Argument Error'\u001b[0m\u001b[1;33m)\u001b[0m\u001b[1;33m\u001b[0m\u001b[0m\n\u001b[0m",
      "\u001b[1;31mException\u001b[0m: Argument Error"
     ]
    }
   ],
   "source": [
    "raise Exception('Argument Error')"
   ]
  },
  {
   "cell_type": "code",
   "execution_count": 156,
   "metadata": {
    "collapsed": true
   },
   "outputs": [],
   "source": [
    "def find_prime(key_half_length):\n",
    "\n",
    "    def isprime(n):\n",
    "\n",
    "        if n < 2:\n",
    "            raise Exception('Argument Error')\n",
    "        elif n == 3:\n",
    "            return 'prime'\n",
    "\n",
    "\n",
    "        q = n - 1\n",
    "        k = 0\n",
    "        #Find k, q, satisfied 2^k * q = n - 1\n",
    "        while q % 2 == 0:\n",
    "            k += 1\n",
    "            q /= 2\n",
    "        a = random.randint(2, n-2)\n",
    "        #If a^q mod n= 1, n maybe is a prime number\n",
    "        if fast_exp_mod(a, q, n) == 1:\n",
    "            return \"inconclusive\"\n",
    "        #If there exists j satisfy a ^ ((2 ^ j) * q) mod n == n-1, n maybe is a prime number\n",
    "        for j in range(0, k):\n",
    "            if fast_exp_mod(a, (2**j)*q, n) == n - 1:\n",
    "                return \"inconclusive\"\n",
    "        #a is not a prime number\n",
    "        return \"composite\"\n",
    "\n",
    "\n",
    "    while True:\n",
    "        #Select a random number n\n",
    "        n = random.randint(0, 1<< key_half_length)\n",
    "        #print(n)\n",
    "        if n % 2 != 0:\n",
    "            found = True\n",
    "            #If n satisfy primeTest 10 times, then n should be a prime number\n",
    "            for i in range(10):\n",
    "                if n < 2 :\n",
    "                    found = False\n",
    "                    continue\n",
    "                if isprime(n) == \"composite\":\n",
    "                    found = False\n",
    "                    break\n",
    "\n",
    "                #print(i)\n",
    "            if found:\n",
    "                return n\n",
    "\n"
   ]
  },
  {
   "cell_type": "code",
   "execution_count": 219,
   "metadata": {
    "collapsed": false
   },
   "outputs": [],
   "source": [
    "def selectE(fn, key_half_length):\n",
    "\n",
    "    while True:\n",
    "        #e and fn are relatively prime\n",
    "        e = random.randint(0, 1<<key_half_length)\n",
    "        (x, y, r) = extendedGCD(e, fn)\n",
    "        if r == 1:\n",
    "            return e\n",
    "\n",
    "def computeD(fn, e):\n",
    "    (x, y, r) = extendedGCD(fn, e)\n",
    "    #y maybe < 0, so convert it\n",
    "    if y < 0:\n",
    "        return fn + y\n",
    "    return y\n",
    "\n",
    "def keyGeneration(key_length):\n",
    "    #generate public key and private key\n",
    "    p = find_prime(key_length//2)\n",
    "    q = find_prime(key_length//2)\n",
    "    \n",
    "    n = p * q\n",
    "    fn = (p-1) * (q-1)\n",
    "    print(n,fn)\n",
    "    e = selectE(fn, key_length//2)\n",
    "    print(e)\n",
    "    d = computeD(fn, e)\n",
    "    print(d)\n",
    "    print((e*d-1)/fn)\n",
    "    return (n, e, d)\n"
   ]
  },
  {
   "cell_type": "code",
   "execution_count": 186,
   "metadata": {
    "collapsed": false
   },
   "outputs": [
    {
     "data": {
      "text/plain": [
       "7"
      ]
     },
     "execution_count": 186,
     "metadata": {},
     "output_type": "execute_result"
    }
   ],
   "source": [
    "find_prime(6//2)"
   ]
  },
  {
   "cell_type": "code",
   "execution_count": 225,
   "metadata": {
    "collapsed": false
   },
   "outputs": [
    {
     "name": "stdout",
     "output_type": "stream",
     "text": [
      "1818456824900266813 1818456820607022880\n",
      "3072990543\n",
      "1240690839487103567\n",
      "2096630051.0\n"
     ]
    },
    {
     "data": {
      "text/plain": [
       "(1818456824900266813, 3072990543, 1240690839487103567)"
      ]
     },
     "execution_count": 225,
     "metadata": {},
     "output_type": "execute_result"
    }
   ],
   "source": [
    "keyGeneration(64)"
   ]
  },
  {
   "cell_type": "code",
   "execution_count": 154,
   "metadata": {
    "collapsed": false
   },
   "outputs": [
    {
     "data": {
      "text/plain": [
       "0"
      ]
     },
     "execution_count": 154,
     "metadata": {},
     "output_type": "execute_result"
    }
   ],
   "source": [
    "fast_exp_mod(2, 5, 8)"
   ]
  },
  {
   "cell_type": "code",
   "execution_count": 144,
   "metadata": {
    "collapsed": true
   },
   "outputs": [],
   "source": [
    "\n",
    "def extendedGCD(a, b):\n",
    "    if (b == 0):\n",
    "        return 1, 0, a\n",
    "    else:\n",
    "        x , y , q = extendedGCD( b , a % b )\n",
    "        x , y = y, ( x - (a // b) * y )\n",
    "        return x, y, q\n",
    "\n",
    "\n",
    "def selectE(fn, key_length):\n",
    "    key_half_length = key_length // 2\n",
    "    while True:\n",
    "        #e and fn are relatively prime\n",
    "        e = random.randint(0, 1<<key_half_length)\n",
    "        (x, y, r) = extendedGCD(e, fn)\n",
    "        if r == 1:\n",
    "            return e\n",
    "\n",
    "def computeD(fn, e):\n",
    "    (x, y, r) = extendedGCD(fn, e)\n",
    "    #y maybe < 0, so convert it\n",
    "    if y < 0:\n",
    "        return fn + y\n",
    "    return y\n"
   ]
  },
  {
   "cell_type": "code",
   "execution_count": 152,
   "metadata": {
    "collapsed": false
   },
   "outputs": [
    {
     "data": {
      "text/plain": [
       "(11498079113205533609, 495540589, 11382594086049848869)"
      ]
     },
     "execution_count": 152,
     "metadata": {},
     "output_type": "execute_result"
    }
   ],
   "source": [
    "keyGeneration(64)"
   ]
  },
  {
   "cell_type": "code",
   "execution_count": 15,
   "metadata": {
    "collapsed": false
   },
   "outputs": [
    {
     "data": {
      "text/plain": [
       "0"
      ]
     },
     "execution_count": 15,
     "metadata": {},
     "output_type": "execute_result"
    }
   ],
   "source": [
    "4 & 1"
   ]
  },
  {
   "cell_type": "code",
   "execution_count": 251,
   "metadata": {
    "collapsed": false
   },
   "outputs": [
    {
     "name": "stdout",
     "output_type": "stream",
     "text": [
      "217224658435385767 217224657427336480\n",
      "144460731\n",
      "98234304805685331\n",
      "65328677.0\n",
      "PlainText: 1855139566\n",
      "Encryption of plainText: 79668987439170070\n",
      "Decryption of cipherText: 1855139566\n",
      "The algorithm is correct: True\n"
     ]
    }
   ],
   "source": [
    "    (n, e, d) = keyGeneration(64)\n",
    "    #AES keyLength = 256\n",
    "    X = random.randint(0, 1<<32)\n",
    "    C = encryption(X, e, n)\n",
    "    M = decryption(C, d, n)\n",
    "    print (\"PlainText:\", X)\n",
    "    print (\"Encryption of plainText:\", C)\n",
    "    print (\"Decryption of cipherText:\", M)\n",
    "    print (\"The algorithm is correct:\", X == M)"
   ]
  },
  {
   "cell_type": "code",
   "execution_count": 228,
   "metadata": {
    "collapsed": false
   },
   "outputs": [
    {
     "data": {
      "text/plain": [
       "False"
      ]
     },
     "execution_count": 228,
     "metadata": {},
     "output_type": "execute_result"
    }
   ],
   "source": [
    "5041780472758185623 > 9906724632112101530"
   ]
  },
  {
   "cell_type": "code",
   "execution_count": 258,
   "metadata": {
    "collapsed": false
   },
   "outputs": [],
   "source": [
    "assert isinstance('', str), print('Not')"
   ]
  },
  {
   "cell_type": "code",
   "execution_count": 259,
   "metadata": {
    "collapsed": true
   },
   "outputs": [],
   "source": [
    "if True:\n",
    "    a=1"
   ]
  },
  {
   "cell_type": "code",
   "execution_count": 260,
   "metadata": {
    "collapsed": false
   },
   "outputs": [
    {
     "data": {
      "text/plain": [
       "1"
      ]
     },
     "execution_count": 260,
     "metadata": {},
     "output_type": "execute_result"
    }
   ],
   "source": [
    "a"
   ]
  },
  {
   "cell_type": "code",
   "execution_count": 299,
   "metadata": {
    "collapsed": true
   },
   "outputs": [],
   "source": [
    "#IP置换表\n",
    "IP_table=[58, 50, 42, 34, 26, 18, 10,  2,\n",
    "  60, 52, 44, 36, 28, 20, 12,  4,\n",
    "  62, 54, 46, 38, 30, 22, 14,  6,\n",
    "  64, 56, 48, 40, 32, 24, 16,  8,\n",
    "  57, 49, 41, 33, 25, 17,  9,  1,\n",
    "  59, 51, 43, 35, 27, 19, 11,  3,\n",
    "  61, 53, 45, 37, 29, 21, 13,  5,\n",
    "  63, 55, 47, 39, 31, 23, 15,  7\n",
    "]\n",
    "#逆IP置换表\n",
    "_IP_table=[40,  8, 48, 16, 56, 24, 64, 32,\n",
    "  39,  7, 47, 15, 55, 23, 63, 31,\n",
    "  38,  6, 46, 14, 54, 22, 62, 30,\n",
    "  37,  5, 45, 13, 53, 21, 61, 29,\n",
    "  36,  4, 44, 12, 52, 20, 60, 28,\n",
    "  35,  3, 43, 11, 51, 19, 59, 27,\n",
    "  34,  2, 42, 10, 50, 18, 58, 26,\n",
    "  33,  1, 41,  9, 49, 17, 57, 25\n",
    "]\n",
    "#S盒中的S1盒\n",
    "S1=[14,  4, 13,  1,  2, 15, 11,  8,  3, 10,  6, 12,  5,  9,  0,  7,\n",
    "    0, 15,  7,  4, 14,  2, 13,  1, 10,  6, 12, 11,  9,  5,  3,  8,\n",
    "    4,  1, 14,  8, 13,  6,  2, 11, 15, 12,  9,  7,  3, 10,  5,  0,\n",
    "    15, 12,  8,  2,  4,  9,  1,  7,  5, 11,  3, 14, 10,  0,  6, 13\n",
    "    ]\n",
    "#S盒中的S2盒\n",
    "S2=[15,  1,  8, 14,  6, 11,  3,  4,  9,  7,  2, 13, 12,  0,  5, 10,\n",
    "    3, 13,  4,  7, 15,  2,  8, 14, 12,  0,  1, 10,  6,  9, 11,  5,\n",
    "    0, 14,  7, 11, 10,  4, 13,  1,  5,  8, 12,  6,  9,  3,  2, 15,\n",
    "    13,  8, 10,  1,  3, 15,  4,  2, 11,  6,  7, 12,  0,  5, 14,  9\n",
    "    ]\n",
    "#S盒中的S3盒\n",
    "S3=[10,  0,  9, 14,  6,  3, 15,  5,  1, 13, 12,  7, 11,  4,  2,  8,\n",
    "    13,  7,  0,  9,  3,  4,  6, 10,  2,  8,  5, 14, 12, 11, 15,  1,\n",
    "    13,  6,  4,  9,  8, 15,  3,  0, 11,  1,  2, 12,  5, 10, 14,  7,\n",
    "    1, 10, 13,  0,  6,  9,  8,  7,  4, 15, 14,  3, 11,  5,  2, 12\n",
    "    ]\n",
    "#S盒中的S4盒\n",
    "S4=[7, 13, 14,  3,  0,  6,  9, 10,  1,  2,  8,  5, 11, 12,  4, 15,\n",
    "    13,  8, 11,  5,  6, 15,  0,  3,  4,  7,  2, 12,  1, 10, 14,  9,\n",
    "    10,  6,  9,  0, 12, 11,  7, 13, 15,  1,  3, 14,  5,  2,  8,  4,\n",
    "    3, 15,  0,  6, 10,  1, 13,  8,  9,  4,  5, 11, 12,  7,  2, 14\n",
    "    ]\n",
    "#S盒中的S5盒\n",
    "S5=[2, 12,  4,  1,  7, 10, 11,  6,  8,  5,  3, 15, 13,  0, 14,  9,\n",
    "    14, 11,  2, 12,  4,  7, 13,  1,  5,  0, 15, 10,  3,  9,  8,  6,\n",
    "    4,  2,  1, 11, 10, 13,  7,  8, 15,  9, 12,  5,  6,  3,  0, 14,\n",
    "    11,  8, 12,  7,  1, 14,  2, 13,  6, 15,  0,  9, 10,  4,  5,  3\n",
    "    ]\n",
    "#S盒中的S6盒\n",
    "S6=[12,  1, 10, 15,  9,  2,  6,  8,  0, 13,  3,  4, 14,  7,  5, 11,\n",
    "    10, 15,  4,  2,  7, 12,  9,  5,  6,  1, 13, 14,  0, 11,  3,  8,\n",
    "    9, 14, 15,  5,  2,  8, 12,  3,  7,  0,  4, 10,  1, 13, 11,  6,\n",
    "    4,  3,  2, 12,  9,  5, 15, 10, 11, 14,  1,  7,  6,  0,  8, 13\n",
    "    ]\n",
    "#S盒中的S7盒\n",
    "S7=[4, 11,  2, 14, 15,  0,  8, 13,  3, 12,  9,  7,  5, 10,  6,  1,\n",
    "    13,  0, 11,  7,  4,  9,  1, 10, 14,  3,  5, 12,  2, 15,  8,  6,\n",
    "    1,  4, 11, 13, 12,  3,  7, 14, 10, 15,  6,  8,  0,  5,  9,  2,\n",
    "    6, 11, 13,  8,  1,  4, 10,  7,  9,  5,  0, 15, 14,  2,  3, 12\n",
    "    ]\n",
    "#S盒中的S8盒\n",
    "S8=[13,  2,  8,  4,  6, 15, 11,  1, 10,  9,  3, 14,  5,  0, 12,  7,\n",
    "    1, 15, 13,  8, 10,  3,  7,  4, 12,  5,  6, 11,  0, 14,  9,  2,\n",
    "    7, 11,  4,  1,  9, 12, 14,  2,  0,  6, 10, 13, 15,  3,  5,  8,\n",
    "    2,  1, 14,  7,  4, 10,  8, 13, 15, 12,  9,  0,  3,  5,  6, 11\n",
    "    ]\n",
    "# S盒\n",
    "S=[S1,S2,S3,S4,S5,S6,S7,S8]\n",
    "#P盒\n",
    "P_table=[16,  7, 20, 21,\n",
    "         29, 12, 28, 17,\n",
    "         1, 15, 23, 26,\n",
    "         5, 18, 31, 10,\n",
    "         2,  8, 24, 14,\n",
    "         32, 27,  3,  9,\n",
    "         19, 13, 30,  6,\n",
    "         22, 11,  4, 25\n",
    "        ]\n",
    "\n",
    "#压缩置换表1，不考虑每字节的第8位，将64位密钥减至56位。然后进行一次密钥置换。\n",
    "compress_table1=[ 57, 49, 41, 33, 25, 17,  9,\n",
    "                   1, 58, 50, 42, 34, 26, 18,\n",
    "                  10,  2, 59, 51, 43, 35, 27,\n",
    "                  19, 11,  3, 60, 52, 44, 36,\n",
    "                  63, 55, 47, 39, 31, 23, 15,\n",
    "                   7, 62, 54, 46, 38, 30, 22,\n",
    "                  14,  6, 61, 53, 45, 37, 29,\n",
    "                  21, 13,  5, 28, 20, 12,  4\n",
    "                ]\n",
    "\n",
    "#压缩置换表2，用于将循环左移和右移后的56bit密钥压缩为48bit\n",
    "compress_table2=[14, 17, 11, 24,  1,  5,\n",
    "                  3, 28, 15,  6, 21, 10,\n",
    "                 23, 19, 12,  4, 26,  8,\n",
    "                 16,  7, 27, 20, 13,  2,\n",
    "                 41, 52, 31, 37, 47, 55,\n",
    "                 30, 40, 51, 45, 33, 48,\n",
    "                 44, 49, 39, 56, 34, 53,\n",
    "                 46, 42, 50, 36, 29, 32\n",
    "                ]\n",
    "\n",
    "\n",
    "#用于对数据进行扩展置换，将32bit数据扩展为48bit\n",
    "extend_table=[32,  1,  2,  3,  4,  5,\n",
    "              4,  5,  6,  7,  8,  9,\n",
    "              8,  9, 10, 11, 12, 13,\n",
    "              12, 13, 14, 15, 16, 17,\n",
    "              16, 17, 18, 19, 20, 21,\n",
    "              20, 21, 22, 23, 24, 25,\n",
    "              24, 25, 26, 27, 28, 29,\n",
    "              28, 29, 30, 31, 32,1]"
   ]
  },
  {
   "cell_type": "code",
   "execution_count": 335,
   "metadata": {
    "collapsed": false
   },
   "outputs": [],
   "source": [
    "def char2unicode_ascii(intext):\n",
    "    outtext=[ord(intext[i]) for i in range(len(intext))]  \n",
    "    return outtext\n",
    "\n",
    "#将8位ASCII码转为bit    \n",
    "def byte2bit(inchar):\n",
    "    \n",
    "    #一次左移一bit\n",
    "    outbit = [inchar[int(i/8)]>>(i%8)&1 for i in range(len(inchar)*8)]\n",
    "    return outbit\n",
    "\n",
    "#将Unicode码转为bit    \n",
    "def unicode2bit(intext):\n",
    "    \n",
    "    #一次左移一bit\n",
    "    outbit = [intext[int(i/16)]>>(i%16)&1 for i in range(len(intext)*16)]\n",
    "    return outbit\n",
    "\n",
    "#将bit转为Unicode码\n",
    "def bit2unicode(inbit):\n",
    "    out=[]\n",
    "    temp=0\n",
    "    for i in range(len(inbit)):\n",
    "        temp=temp|(inbit[i]<<(i%16))\n",
    "        if i%16==15:            \n",
    "            out.append(temp)\n",
    "            temp=0\n",
    "    return out\n",
    "\n",
    "#将unicode码转为字符（中文或英文）\n",
    "def unicode2char(inbyte):\n",
    "    out=\"\"\n",
    "    for i in range(len(inbyte)):\n",
    "        out=out+chr(inbyte[i])\n",
    "    return out\n",
    "\n",
    "#将bit转为ascii 码\n",
    "def bit2byte(inbit):\n",
    "    out=[]\n",
    "    temp=0\n",
    "    for i in range(len(inbit)):\n",
    "        temp=temp|(inbit[i]<<(i%8))\n",
    "        if i%8==7:            \n",
    "            out.append(temp)\n",
    "            temp=0\n",
    "    return out"
   ]
  },
  {
   "cell_type": "code",
   "execution_count": 313,
   "metadata": {
    "collapsed": false
   },
   "outputs": [],
   "source": [
    "#byte2bit(char2unicode_ascii('同志们， 你好， 大家好'))"
   ]
  },
  {
   "cell_type": "code",
   "execution_count": 316,
   "metadata": {
    "collapsed": false
   },
   "outputs": [],
   "source": [
    "#生成每一轮的key\n",
    "def createKeys(inkeys):\n",
    "    keyResult=[]\n",
    "    keyinit=byte2bit(char2unicode_ascii(inkeys))\n",
    "#    print(\"keyinit=\",end='')\n",
    "#    print(keyinit)\n",
    "    #初始化列表key0,key1\n",
    "    key0=[0 for i in range(56)]\n",
    "    key1=[0 for i in range(48)]\n",
    "    #进行密码压缩置换1，将64位密码压缩为56位\n",
    "    print('key[0]:{0}, keyinit: {1}, compress_table1: {2} '.format(len(key0), len(keyinit), len(compress_table1)))\n",
    "    for i in range(56):\n",
    "        key0[i]=keyinit[compress_table1[i]-1]\n",
    "        \n",
    "    #进行16轮的密码生成        \n",
    "    for i in range(16):\n",
    "        #---------确定左移的次数----------\n",
    "        if (i==0 or i==1 or i==8 or i==15):\n",
    "            moveStep=1\n",
    "        else:\n",
    "            moveStep=2\n",
    "        #------------------------------\n",
    "            \n",
    "        #--------分两部分，每28bit位一部分，进行循环左移------------    \n",
    "        for j in range(moveStep):\n",
    "            for k in range(8):\n",
    "                temp=key0[k*7]\n",
    "                for m in range(7*k,7*k+6):\n",
    "                    key0[m]=key0[m+1]\n",
    "                key0[k*7+6]=temp\n",
    "            temp=key0[0]\n",
    "            for k in range(27):\n",
    "                key0[k]=key0[k+1]\n",
    "            key0[27]=temp\n",
    "            temp=key0[28]\n",
    "            for k in  range(28,55):\n",
    "                key0[k]=key0[k+1]\n",
    "            key0[55]=temp\n",
    "        #-----------------------------------------------------\n",
    "\n",
    "\n",
    "        #------------对56位密钥进行压缩置换，压缩为48位-------------\n",
    "        for k in range(48):\n",
    "            key1[k]=key0[compress_table2[k]-1]     \n",
    "        keyResult.extend(key1)\n",
    "\n",
    "\n",
    "        \n",
    "        #------------------------------------------------------\n",
    "        \n",
    "    return keyResult"
   ]
  },
  {
   "cell_type": "code",
   "execution_count": 333,
   "metadata": {
    "collapsed": false
   },
   "outputs": [
    {
     "name": "stdout",
     "output_type": "stream",
     "text": [
      "key[0]:56, keyinit: 96, compress_table1: 56 \n"
     ]
    }
   ],
   "source": [
    "res = createKeys('同志们， 你好， 大家好')"
   ]
  },
  {
   "cell_type": "code",
   "execution_count": 323,
   "metadata": {
    "collapsed": true
   },
   "outputs": [],
   "source": [
    "def DES(text, key, optionType):\n",
    "    keyResult=createKeys(key)\n",
    "    finalTextOfBit=[0 for i in range(64)]\n",
    "    finalTextOfUnicode=[0 for i in range(4)]\n",
    "    #print(keyResult)\n",
    "    \n",
    "    if optionType==0:#选择的操作类型为加密\n",
    "\n",
    "        tempText=[0 for i in range(64)]#用于临时盛放IP逆置换之前，将L部分和R部分合并成64位的结果\n",
    "        extendR=[0 for i in range(48)] #用于盛放R部分的扩展结果\n",
    "        unicodeText=char2unicode_ascii(text)\n",
    "        #print(unicodeText)\n",
    "        bitText=unicode2bit(unicodeText)\n",
    "        #print(bitText)\n",
    "        \n",
    "        initTrans=[0 for i in range(64)]#初始化，用于存放IP置换后的结果\n",
    "        \n",
    "        #------------------进行初始IP置换---------------\n",
    "        for i in range(64):\n",
    "            initTrans[i]=bitText[IP_table[i]-1]\n",
    "        #将64位明文分为左右两部分\n",
    "        L=[initTrans[i] for i in range(32)]\n",
    "        R=[initTrans[i] for i in range(32,64)]\n",
    "        \n",
    "        \n",
    "        #开始进行16轮运算              \n",
    "        for i in range(16):\n",
    "            tempR=R #用于临时盛放R\n",
    "            \n",
    "            #-----------进行扩展，将32位扩展为48位--------\n",
    "            for j in range(48):\n",
    "                extendR[j]=R[extend_table[j]-1]\n",
    "            #print(len(keyResult))    \n",
    "            keyi=[keyResult[j] for j in range(i*48,i*48+48)]\n",
    "            #----------与key值进行异或运算----------------\n",
    "            XORResult=[0 for j in range(48)]\n",
    "            for j in range(48):\n",
    "                if keyi[j]!=extendR[j]:\n",
    "                    XORResult[j]=1\n",
    "            \n",
    "            SResult=[0 for k in range(32)]\n",
    "             #---------开始进行S盒替换-------------------          \n",
    "            for k in range(8):\n",
    "                row=XORResult[k*6]*2+XORResult[k*6+5]\n",
    "                column=XORResult[k*6+1]*8+XORResult[k*6+2]*4+XORResult[k*6+3]*2+XORResult[k*6+4]\n",
    "                temp=S[k][row*16+column]\n",
    "                for m in range(4):\n",
    "                    SResult[k*4+m]=(temp>>m)&1\n",
    "            #-----------------------------------------\n",
    "            PResult=[0 for k in range(32)]\n",
    "            #--------------开始进行P盒置换----------------\n",
    "            for k in range(32):\n",
    "                PResult[k]=SResult[P_table[k]-1]\n",
    "            #------------------------------------------\n",
    "\n",
    "\n",
    "            #--------------与L部分的数据进行异或------------\n",
    "            XORWithL=[0 for k in range(32)]\n",
    "            for k in range(32):\n",
    "                if L[k]!=PResult[k]:\n",
    "                    XORWithL[k]=1\n",
    "            #----------------------------------------------\n",
    "\n",
    "\n",
    "            #-------------将临时保存的R部分值，即tempR复制给L------\n",
    "            L=tempR\n",
    "            R=XORWithL\n",
    "            \n",
    "        #----交换左右两部分------\n",
    "        L,R=R,L\n",
    "        \n",
    "        #-----合并为一部分\n",
    "        tempText=L\n",
    "        tempText.extend(R)\n",
    "        #-----------IP逆置换--------\n",
    "        for k in range(64):\n",
    "            finalTextOfBit[k]=tempText[_IP_table[k]-1]\n",
    "        finalTextOfUnicode=bit2byte(finalTextOfBit)\n",
    "        #print(finalTextOfUnicode)\n",
    "        finalTextOfChar=unicode2char(finalTextOfUnicode)\n",
    "        #print(finalTextOfChar)\n",
    "        return finalTextOfChar\n",
    "    else:#选择的操作类型为解密\n",
    "\n",
    "\n",
    "        tempText=[0 for i in range(64)]#用于临时盛放IP逆置换之前，将L部分和R部分合并成64位的结果\n",
    "        extendR=[0 for i in range(48)]#用于盛放R部分的扩展结果\n",
    "        unicodeText=char2unicode_ascii(text)\n",
    "        #print(unicodeText)\n",
    "        bitText=byte2bit(unicodeText)\n",
    "        #print(bitText)\n",
    "        \n",
    "        initTrans=[0 for i in range(64)]#初始化，用于存放IP置换后的结果\n",
    "        \n",
    "        #------------------进行初始IP置换---------------\n",
    "        for i in range(64):\n",
    "            initTrans[i]=bitText[IP_table[i]-1]\n",
    "        #将64位明文分为左右两部分\n",
    "        L=[initTrans[i] for i in range(32)]\n",
    "        R=[initTrans[i] for i in range(32,64)]\n",
    "\n",
    "\n",
    "        \n",
    "        #-----------------开始16轮的循环-----------------\n",
    "        for i in range(15,-1,-1):\n",
    "            tempR=R #用于临时盛放R\n",
    "            \n",
    "            #-----------进行扩展，将32位扩展为48位--------\n",
    "            for j in range(48):\n",
    "                extendR[j]=R[extend_table[j]-1]\n",
    "                \n",
    "            keyi=[keyResult[j] for j in range(i*48,i*48+48)]\n",
    "            #----------与key值进行异或运算----------------\n",
    "            XORResult=[0 for j in range(48)]\n",
    "            for j in range(48):\n",
    "                if keyi[j]!=extendR[j]:\n",
    "                    XORResult[j]=1\n",
    "            \n",
    "            SResult=[0 for k in range(32)]\n",
    "             #---------开始进行S盒替换-------------------          \n",
    "            for k in range(8):\n",
    "                row=XORResult[k*6]*2+XORResult[k*6+5]\n",
    "                column=XORResult[k*6+1]*8+XORResult[k*6+2]*4+XORResult[k*6+3]*2+XORResult[k*6+4]\n",
    "                temp=S[k][row*16+column]\n",
    "                for m in range(4):\n",
    "                    SResult[k*4+m]=(temp>>m)&1\n",
    "            #-----------------------------------------\n",
    "            PResult=[0 for k in range(32)]\n",
    "            #--------------开始进行P盒置换----------------\n",
    "            for k in range(32):\n",
    "                PResult[k]=SResult[P_table[k]-1]\n",
    "            #------------------------------------------\n",
    "\n",
    "\n",
    "            #--------------与L部分的数据进行异或------------\n",
    "            XORWithL=[0 for k in range(32)]\n",
    "            for k in range(32):\n",
    "                if L[k]!=PResult[k]:\n",
    "                    XORWithL[k]=1\n",
    "            #----------------------------------------------\n",
    "\n",
    "\n",
    "            #-------------将临时保存的R部分值，即tempR复制给L------\n",
    "            L=tempR\n",
    "            R=XORWithL\n",
    "            \n",
    "        #----交换左右两部分------\n",
    "        L,R=R,L\n",
    "        \n",
    "        #-----合并为一部分\n",
    "        tempText=L\n",
    "        tempText.extend(R)\n",
    "        #-----------IP逆置换--------\n",
    "        for k in range(64):\n",
    "            finalTextOfBit[k]=tempText[_IP_table[k]-1]\n",
    "        finalTextOfUnicode=bit2unicode(finalTextOfBit)\n",
    "        #print(finalTextOfUnicode)\n",
    "        finalTextOfChar=unicode2char(finalTextOfUnicode)\n",
    "        #print(finalTextOfChar)\n",
    "        return finalTextOfChar "
   ]
  },
  {
   "cell_type": "code",
   "execution_count": 407,
   "metadata": {
    "collapsed": true
   },
   "outputs": [],
   "source": [
    "passwd = '12345678'"
   ]
  },
  {
   "cell_type": "code",
   "execution_count": 469,
   "metadata": {
    "collapsed": false
   },
   "outputs": [
    {
     "name": "stdout",
     "output_type": "stream",
     "text": [
      "key[0]:56, keyinit: 64, compress_table1: 56 \n"
     ]
    }
   ],
   "source": [
    "res = DES('同志们a', passwd, 0)"
   ]
  },
  {
   "cell_type": "code",
   "execution_count": 453,
   "metadata": {
    "collapsed": true
   },
   "outputs": [],
   "source": [
    "def char2unicode_ascii_hex(intext):\n",
    "    outtext=[hex(ord(intext[i])) for i in range(len(intext))]  \n",
    "    return outtext"
   ]
  },
  {
   "cell_type": "code",
   "execution_count": 470,
   "metadata": {
    "collapsed": false
   },
   "outputs": [
    {
     "name": "stdout",
     "output_type": "stream",
     "text": [
      "4\n",
      "Ñ5½Z«\n",
      "['0xd1', '0x35', '0x9b', '0xbd', '0x8b', '0x8c', '0x5a', '0xab']\n",
      "b'\\xc3\\x915\\xc2\\x9b\\xc2\\xbd\\xc2\\x8b\\xc2\\x8cZ\\xc2\\xab'\n",
      "8\n"
     ]
    }
   ],
   "source": [
    "print(len('同志们a'))\n",
    "print(res)\n",
    "print((char2unicode_ascii_hex(res)))\n",
    "print(res.encode())\n",
    "print(len(res))"
   ]
  },
  {
   "cell_type": "code",
   "execution_count": 463,
   "metadata": {
    "collapsed": false
   },
   "outputs": [
    {
     "data": {
      "text/plain": [
       "'Ñ'"
      ]
     },
     "execution_count": 463,
     "metadata": {},
     "output_type": "execute_result"
    }
   ],
   "source": [
    "chr(int('0xd1',base=16))"
   ]
  },
  {
   "cell_type": "code",
   "execution_count": 466,
   "metadata": {
    "collapsed": false
   },
   "outputs": [
    {
     "name": "stdout",
     "output_type": "stream",
     "text": [
      "key[0]:56, keyinit: 64, compress_table1: 56 \n"
     ]
    }
   ],
   "source": [
    "res = DES(res, '12345678', 1)"
   ]
  },
  {
   "cell_type": "code",
   "execution_count": 467,
   "metadata": {
    "collapsed": false
   },
   "outputs": [
    {
     "data": {
      "text/plain": [
       "'同志们a'"
      ]
     },
     "execution_count": 467,
     "metadata": {},
     "output_type": "execute_result"
    }
   ],
   "source": [
    "res"
   ]
  },
  {
   "cell_type": "code",
   "execution_count": 457,
   "metadata": {
    "collapsed": true
   },
   "outputs": [],
   "source": [
    "def f(a):\n",
    "    a+=1"
   ]
  },
  {
   "cell_type": "code",
   "execution_count": 460,
   "metadata": {
    "collapsed": false
   },
   "outputs": [
    {
     "name": "stdout",
     "output_type": "stream",
     "text": [
      "2\n"
     ]
    }
   ],
   "source": [
    "a=2\n",
    "f(a)\n",
    "print(a)"
   ]
  }
 ],
 "metadata": {
  "kernelspec": {
   "display_name": "Python 3",
   "language": "python",
   "name": "python3"
  },
  "language_info": {
   "codemirror_mode": {
    "name": "ipython",
    "version": 3
   },
   "file_extension": ".py",
   "mimetype": "text/x-python",
   "name": "python",
   "nbconvert_exporter": "python",
   "pygments_lexer": "ipython3",
   "version": "3.5.1"
  }
 },
 "nbformat": 4,
 "nbformat_minor": 0
}
